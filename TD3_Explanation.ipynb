{
 "cells": [
  {
   "cell_type": "markdown",
   "metadata": {},
   "source": [
    "# TD3\n",
    "\n",
    "<b>TD3</b> is described in the paper [Addressing Function Approximation Error in Actor-Critic Methods](https://arxiv.org/abs/1802.09477) authored by Scott Fujimoto (et al).\n",
    "\n",
    "TD3 is an improvement on the DDPG algorithm and introduces three main changes to that algorithm:\n",
    "\n",
    "1. **Double Q Learning** two networks are \"twinned\" and learn at the same time\n",
    "2. **Added Noise** noise is added to the policy actions\n",
    "3. **Delayed Updates** updates to the policy network, it's target network and the twin target network are delayed."
   ]
  },
  {
   "cell_type": "markdown",
   "metadata": {},
   "source": [
    "## TD3 Loss Function\n",
    "\n",
    "We get an experience tuple $(s,a,r,s')$ by sampling uniformly randomly from the replay buffer $D$. This is denoted as $U(D)$ in the equation below.\n",
    "\n",
    "There are two critique networks, $Q_{\\theta^{1}}$ and $Q_{\\theta^{2}}$, which are being trained using the same actor network $\\pi_{\\phi}$.\n",
    "\n",
    "The $Q$-learning update at iteration $i$ uses the following loss functions:\n",
    "\n",
    "$$ TWIN^{target} = r + \\gamma \\min\\limits_{i=1,2}Q_{\\theta^{\\prime}_i}(s^{\\prime}, \\pi_{{\\phi}_1} + \\epsilon)) $$\n",
    "$$ \\mathcal{J_i}(\\theta^{1}_i) = \\mathbb{E}_{(s, a, r, s') \\sim U(D)} \\Bigg[\\bigg(TWIN^{target} - Q\\big(s, a; \\theta^{1}_i\\big)\\bigg)^{2}\\Bigg] $$\n",
    "$$ \\mathcal{J_i}(\\theta^{2}_i) = \\mathbb{E}_{(s, a, r, s') \\sim U(D)} \\Bigg[\\bigg(TWIN^{target} - Q\\big(s, a; \\theta^{2}_i\\big)\\bigg)^{2}\\Bigg] $$\n",
    "$$ \\mathcal{L_i}(\\theta_i) = \\mathcal{J_i}(\\theta^{1}_i) + \\mathcal{J_i}(\\theta^{2}_i) $$\n",
    "\n",
    "\n",
    "Where $\\epsilon$ is clipped white noise, $\\gamma$ is the discount factor determining the agent’s horizon, $\\theta_i$ are the parameters of the $Q$-network at iteration $i$ and $\\theta_i^{-}$ are the $Q$-network parameters used to compute the target at iteration $i$. The target network parameters $\\theta^{\\prime}_i$ are only updated with the $Q$-network parameters $\\theta_i$ every $C$ steps and are frozen between individual updates. $C$ is usually 2 (so updates are applied every other step)."
   ]
  },
  {
   "cell_type": "markdown",
   "metadata": {},
   "source": [
    "## Algorithm\n",
    "\n",
    "The algorithm for <b>TD3</b> is described in the paper and is shown below:\n",
    "![](TD3_Algorithm.png)"
   ]
  }
 ],
 "metadata": {
  "kernelspec": {
   "display_name": "Python 3",
   "language": "python",
   "name": "python3"
  },
  "language_info": {
   "codemirror_mode": {
    "name": "ipython",
    "version": 3
   },
   "file_extension": ".py",
   "mimetype": "text/x-python",
   "name": "python",
   "nbconvert_exporter": "python",
   "pygments_lexer": "ipython3",
   "version": "3.6.8"
  }
 },
 "nbformat": 4,
 "nbformat_minor": 4
}
